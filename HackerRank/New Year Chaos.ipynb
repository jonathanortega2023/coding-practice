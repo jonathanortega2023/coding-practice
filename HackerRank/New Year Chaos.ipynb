{
 "cells": [
  {
   "cell_type": "code",
   "execution_count": 18,
   "source": [
    "import math\r\n",
    "# %pip install -U ipykernel\r\n",
    "#import os\r\n",
    "#import random\r\n",
    "#import re\r\n",
    "#import sys\r\n",
    "def minimumBribes(q):\r\n",
    "    counter=0\r\n",
    "    for i in range(len(q)):\r\n",
    "        if(q[i] > i+1):\r\n",
    "            if(abs(i+1 - q[i]) > 2):\r\n",
    "                print('Too chaotic')\r\n",
    "                return\r\n",
    "    for i in range(len(q)):\r\n",
    "        if(q[i] > i+1):\r\n",
    "            counter+=1\r\n",
    "            temp=q[i]\r\n",
    "            q[i]=q[i+1]\r\n",
    "            q[i+1]=temp\r\n",
    "            i=0\r\n",
    "    print(counter)\r\n",
    "q = [1, 2, 5, 3, 7, 8, 6, 4]\r\n",
    "\r\n",
    "minimumBribes(q)"
   ],
   "outputs": [
    {
     "output_type": "stream",
     "name": "stdout",
     "text": [
      "4\n"
     ]
    }
   ],
   "metadata": {}
  }
 ],
 "metadata": {
  "orig_nbformat": 4,
  "language_info": {
   "name": "python",
   "version": "3.9.4",
   "mimetype": "text/x-python",
   "codemirror_mode": {
    "name": "ipython",
    "version": 3
   },
   "pygments_lexer": "ipython3",
   "nbconvert_exporter": "python",
   "file_extension": ".py"
  },
  "kernelspec": {
   "name": "python3",
   "display_name": "Python 3.9.4 64-bit"
  },
  "interpreter": {
   "hash": "e37740a9da087ff2f3c097bdceb67e7743d71e72e85bd8c63f0787103a94112a"
  }
 },
 "nbformat": 4,
 "nbformat_minor": 2
}