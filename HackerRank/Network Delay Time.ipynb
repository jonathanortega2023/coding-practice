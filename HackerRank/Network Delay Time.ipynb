{
 "cells": [
  {
   "cell_type": "code",
   "execution_count": 53,
   "source": [
    "def networkDelayTime(times, n: int, k: int) -> int:\r\n",
    "    # edges = {}\r\n",
    "    # for entry in times:\r\n",
    "    #     if entry[0] in edges:\r\n",
    "    #         edges[entry[0]] = [edges[entry[0]], [entry[1], entry[2]]]\r\n",
    "    #     else:\r\n",
    "    #         edges[entry[0]] = [entry[1], entry[2]]\r\n",
    "    # print(edges)\r\n",
    "\r\n",
    "    visited = [False]*n\r\n",
    "    while\r\n",
    "\r\n",
    "times = [[2,1,1],[2,3,1],[3,4,1]]\r\n",
    "n = 4\r\n",
    "k = 2\r\n",
    "networkDelayTime(times, n, k)"
   ],
   "outputs": [
    {
     "output_type": "stream",
     "name": "stdout",
     "text": [
      "[False, False, False, False]\n"
     ]
    }
   ],
   "metadata": {}
  }
 ],
 "metadata": {
  "orig_nbformat": 4,
  "language_info": {
   "name": "python",
   "version": "3.9.4",
   "mimetype": "text/x-python",
   "codemirror_mode": {
    "name": "ipython",
    "version": 3
   },
   "pygments_lexer": "ipython3",
   "nbconvert_exporter": "python",
   "file_extension": ".py"
  },
  "kernelspec": {
   "name": "python3",
   "display_name": "Python 3.9.4 64-bit"
  },
  "interpreter": {
   "hash": "e37740a9da087ff2f3c097bdceb67e7743d71e72e85bd8c63f0787103a94112a"
  }
 },
 "nbformat": 4,
 "nbformat_minor": 2
}