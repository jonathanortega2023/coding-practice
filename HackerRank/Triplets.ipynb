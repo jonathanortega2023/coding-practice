{
 "cells": [
  {
   "cell_type": "code",
   "execution_count": null,
   "source": [
    "def trips(d, t):\r\n",
    "    d=sorted(d)\r\n",
    "    answer=0\r\n",
    "    for i in range(0,len(d)-2):\r\n",
    "        for j in range(1,len(d)-1):\r\n",
    "            if(d[i]<d[j]):\r\n",
    "                for k in range(2,len(d)):\r\n",
    "                    if(d[j]<d[k]):\r\n",
    "                        if(d[i]+d[j]+d[k] <= t):\r\n",
    "                            answer+=1\r\n",
    "    return answer\r\n",
    "\r\n",
    "\r\n",
    "d=[1,2,3,4,6]\r\n",
    "t=8\r\n",
    "print(trips(d,t))\r\n"
   ],
   "outputs": [],
   "metadata": {}
  }
 ],
 "metadata": {
  "orig_nbformat": 4,
  "language_info": {
   "name": "python"
  }
 },
 "nbformat": 4,
 "nbformat_minor": 2
}