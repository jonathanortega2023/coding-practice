{
 "cells": [
  {
   "cell_type": "code",
   "execution_count": null,
   "metadata": {},
   "outputs": [],
   "source": [
    "def trips(d, t):\n",
    "    d=sorted(d)\n",
    "    answer=0\n",
    "    for i in range(0,len(d)-2):\n",
    "        for j in range(1,len(d)-1):\n",
    "            if(d[i]<d[j]):\n",
    "                for k in range(2,len(d)):\n",
    "                    if(d[j]<d[k]):\n",
    "                        if(d[i]+d[j]+d[k] <= t):\n",
    "                            answer+=1\n",
    "    return answer"
   ]
  },
  {
   "cell_type": "code",
   "execution_count": null,
   "metadata": {},
   "outputs": [],
   "source": [
    "d=[1,2,3,4,6]\n",
    "t=8\n",
    "print(trips(d,t))"
   ]
  }
 ],
 "metadata": {
  "kernelspec": {
   "display_name": "Python 3",
   "language": "python",
   "name": "python3"
  },
  "language_info": {
   "name": "python",
   "version": "3.10.4 (main, Jun 29 2022, 12:14:53) [GCC 11.2.0]"
  },
  "orig_nbformat": 4,
  "vscode": {
   "interpreter": {
    "hash": "916dbcbb3f70747c44a77c7bcd40155683ae19c65e1c03b4aa3499c5328201f1"
   }
  }
 },
 "nbformat": 4,
 "nbformat_minor": 2
}
