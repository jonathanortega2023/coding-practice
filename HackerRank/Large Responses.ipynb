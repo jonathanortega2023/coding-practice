{
 "cells": [
  {
   "cell_type": "code",
   "execution_count": 12,
   "source": [
    "f = open(\"demofile.txt\")\r\n",
    "arr=f.read().splitlines()\r\n",
    "count=0\r\n",
    "sum=0\r\n",
    "for i in range(len(arr)):\r\n",
    "    if(int(arr[i]) > 5000):\r\n",
    "        count+=1\r\n",
    "        sum+=int(arr[i])\r\n",
    "print(count)\r\n",
    "print(sum)\r\n"
   ],
   "outputs": [
    {
     "output_type": "stream",
     "name": "stdout",
     "text": [
      "6\n",
      "7413699\n"
     ]
    }
   ],
   "metadata": {}
  }
 ],
 "metadata": {
  "orig_nbformat": 4,
  "language_info": {
   "name": "python",
   "version": "3.9.4",
   "mimetype": "text/x-python",
   "codemirror_mode": {
    "name": "ipython",
    "version": 3
   },
   "pygments_lexer": "ipython3",
   "nbconvert_exporter": "python",
   "file_extension": ".py"
  },
  "kernelspec": {
   "name": "python3",
   "display_name": "Python 3.9.4 64-bit"
  },
  "interpreter": {
   "hash": "e37740a9da087ff2f3c097bdceb67e7743d71e72e85bd8c63f0787103a94112a"
  }
 },
 "nbformat": 4,
 "nbformat_minor": 2
}