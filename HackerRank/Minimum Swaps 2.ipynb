{
 "cells": [
  {
   "cell_type": "code",
   "execution_count": 7,
   "source": [
    "def minimumSwaps(arr):\r\n",
    "    sortedarr = sorted(arr)\r\n",
    "    i=0\r\n",
    "    j=len(arr)-1\r\n",
    "    ans=0\r\n",
    "    while(arr != sortedarr):\r\n",
    "        if(arr[i]==i+1):\r\n",
    "            i+=1\r\n",
    "            continue\r\n",
    "        if(arr[j]==j+1):\r\n",
    "            j-=1\r\n",
    "            continue\r\n",
    "        if(arr[i]==j+1 and arr[j]==i+1):\r\n",
    "            temp = arr[j]\r\n",
    "            arr[j]=arr[i]\r\n",
    "            arr[i]=temp\r\n",
    "            i=0\r\n",
    "            j=len(arr)-1\r\n",
    "            ans+=1\r\n",
    "            continue\r\n",
    "        if(arr[i]==j+1):\r\n",
    "            temp = arr[j]\r\n",
    "            arr[j]=arr[i]\r\n",
    "            arr[i]=temp\r\n",
    "            i=0\r\n",
    "            ans+=1\r\n",
    "            continue\r\n",
    "        if(arr[j]==i+1):\r\n",
    "            temp = arr[j]\r\n",
    "            arr[j]=arr[i]\r\n",
    "            arr[i]=temp\r\n",
    "            j=len(arr)-1\r\n",
    "            ans+=1\r\n",
    "            continue\r\n",
    "    return(ans)\r\n",
    "\r\n",
    "arr=[7,1,3,2,4,5,6]\r\n",
    "minimumSwaps(arr)"
   ],
   "outputs": [
    {
     "output_type": "stream",
     "name": "stdout",
     "text": [
      "[7, 1, 3, 2, 4, 5, 6]\n",
      "[1, 2, 3, 4, 5, 6, 7]\n",
      "5\n"
     ]
    }
   ],
   "metadata": {}
  }
 ],
 "metadata": {
  "orig_nbformat": 4,
  "language_info": {
   "name": "python",
   "version": "3.9.4",
   "mimetype": "text/x-python",
   "codemirror_mode": {
    "name": "ipython",
    "version": 3
   },
   "pygments_lexer": "ipython3",
   "nbconvert_exporter": "python",
   "file_extension": ".py"
  },
  "kernelspec": {
   "name": "python3",
   "display_name": "Python 3.9.4 64-bit"
  },
  "interpreter": {
   "hash": "e37740a9da087ff2f3c097bdceb67e7743d71e72e85bd8c63f0787103a94112a"
  }
 },
 "nbformat": 4,
 "nbformat_minor": 2
}