{
 "cells": [
  {
   "cell_type": "code",
   "execution_count": 6,
   "source": [
    "counter=0\r\n",
    "def sherlockAndAnagrams(s):\r\n",
    "    pairs={}\r\n",
    "    for char in s:\r\n",
    "        if char in pairs:\r\n",
    "            pairs[char]+=1\r\n",
    "        else:\r\n",
    "            pairs[char]=1\r\n",
    "    for k in list(pairs.keys()):\r\n",
    "        if pairs[k]%2 != 0:\r\n",
    "            del pairs[k]\r\n",
    "    for char in s:\r\n",
    "        if char in pairs:\r\n",
    "            s.rfind(s[i]) != s[i]\r\n",
    "\r\n",
    "# def recur(sub):\r\n",
    "#     if(len(sub) == 1):\r\n",
    "#         return 1\r\n",
    "    \r\n",
    "\r\n",
    "s='ifailuhkqq'\r\n",
    "sherlockAndAnagrams(s)"
   ],
   "outputs": [
    {
     "output_type": "stream",
     "name": "stdout",
     "text": [
      "{'i': 2, 'q': 2}\n"
     ]
    }
   ],
   "metadata": {}
  }
 ],
 "metadata": {
  "orig_nbformat": 4,
  "language_info": {
   "name": "python",
   "version": "3.9.4",
   "mimetype": "text/x-python",
   "codemirror_mode": {
    "name": "ipython",
    "version": 3
   },
   "pygments_lexer": "ipython3",
   "nbconvert_exporter": "python",
   "file_extension": ".py"
  },
  "kernelspec": {
   "name": "python3",
   "display_name": "Python 3.9.4 64-bit"
  },
  "interpreter": {
   "hash": "e37740a9da087ff2f3c097bdceb67e7743d71e72e85bd8c63f0787103a94112a"
  }
 },
 "nbformat": 4,
 "nbformat_minor": 2
}