{
 "cells": [
  {
   "cell_type": "code",
   "execution_count": 17,
   "source": [
    "def mergeArrays(a, b):\r\n",
    "    c=[];\r\n",
    "    a=sorted(a)\r\n",
    "    b=sorted(b)\r\n",
    "    if(len(b)>len(a)):\r\n",
    "        temp=b\r\n",
    "        b=a\r\n",
    "        a=temp\r\n",
    "    i=j=0\r\n",
    "    while(i<len(a) and j<len(b)):\r\n",
    "        if(i==len(a)-1):\r\n",
    "            c.append(a[i])\r\n",
    "            for j in range(j,len(b)):\r\n",
    "                c.append(b[j])\r\n",
    "            break\r\n",
    "        if(j==len(b)-1):\r\n",
    "            c.append(b[j])\r\n",
    "            for i in range(i,len(a)):\r\n",
    "                c.append(a[i])\r\n",
    "            break\r\n",
    "        if(a[i]<=b[j]):\r\n",
    "            c.append(a[i])\r\n",
    "            i+=1\r\n",
    "        else:\r\n",
    "            c.append(b[j])\r\n",
    "            j+=1\r\n",
    "    return c\r\n",
    "\r\n",
    "a=[1,5,7,7]\r\n",
    "b=[0,1,2,3]\r\n",
    "\r\n",
    "print(mergeArrays(a,b))"
   ],
   "outputs": [
    {
     "output_type": "stream",
     "name": "stdout",
     "text": [
      "[0, 1, 1, 2, 3, 5, 7, 7]\n"
     ]
    }
   ],
   "metadata": {}
  }
 ],
 "metadata": {
  "orig_nbformat": 4,
  "language_info": {
   "name": "python",
   "version": "3.9.4",
   "mimetype": "text/x-python",
   "codemirror_mode": {
    "name": "ipython",
    "version": 3
   },
   "pygments_lexer": "ipython3",
   "nbconvert_exporter": "python",
   "file_extension": ".py"
  },
  "kernelspec": {
   "name": "python3",
   "display_name": "Python 3.9.4 64-bit"
  },
  "interpreter": {
   "hash": "e37740a9da087ff2f3c097bdceb67e7743d71e72e85bd8c63f0787103a94112a"
  }
 },
 "nbformat": 4,
 "nbformat_minor": 2
}