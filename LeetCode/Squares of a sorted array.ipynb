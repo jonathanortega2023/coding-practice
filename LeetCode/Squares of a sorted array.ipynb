{
 "cells": [
  {
   "cell_type": "code",
   "execution_count": 26,
   "metadata": {},
   "outputs": [
    {
     "name": "stdout",
     "output_type": "stream",
     "text": [
      "[0, 1, 1, 4, 4, 9, 16, 25, 25]\n"
     ]
    }
   ],
   "source": [
    "def sortedSquares(nums) -> [int]:\n",
    "    if(len(nums)==1):\n",
    "        return [nums[0]**2]\n",
    "\n",
    "    ans=[]\n",
    "    if(nums[0]>=0):\n",
    "        for num in nums:\n",
    "            ans.append(num**2)\n",
    "        return ans\n",
    "    if(nums[-1]<=0):\n",
    "        for num in reversed(nums):\n",
    "            ans.append(num**2)\n",
    "        return ans\n",
    "\n",
    "    ans=[None]*len(nums)\n",
    "    i=0\n",
    "    j=len(nums)-1\n",
    "    index=len(nums)-1\n",
    "    while index>=0:\n",
    "        if abs(nums[i]) >= abs(nums[j]):\n",
    "            ans[index]=nums[i]**2\n",
    "            i+=1\n",
    "        else:\n",
    "            ans[index]=nums[j]**2\n",
    "            j-=1\n",
    "        index-=1\n",
    "    return ans\n",
    "    \n",
    "\n",
    "\n",
    "arr=[-5,-2,-1,0,1,2,3,4,5]\n",
    "print(sortedSquares(arr))"
   ]
  }
 ],
 "metadata": {
  "interpreter": {
   "hash": "e37740a9da087ff2f3c097bdceb67e7743d71e72e85bd8c63f0787103a94112a"
  },
  "kernelspec": {
   "display_name": "Python 3.9.4 64-bit",
   "name": "python3"
  },
  "language_info": {
   "codemirror_mode": {
    "name": "ipython",
    "version": 3
   },
   "file_extension": ".py",
   "mimetype": "text/x-python",
   "name": "python",
   "nbconvert_exporter": "python",
   "pygments_lexer": "ipython3",
   "version": "3.9.4"
  },
  "orig_nbformat": 4
 },
 "nbformat": 4,
 "nbformat_minor": 2
}
