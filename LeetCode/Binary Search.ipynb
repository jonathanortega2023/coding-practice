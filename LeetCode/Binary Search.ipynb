{
 "cells": [
  {
   "cell_type": "code",
   "execution_count": 70,
   "source": [
    "def search(nums, target) -> int:\r\n",
    "    left = 0\r\n",
    "    right = len(nums)-1\r\n",
    "    while left < right:\r\n",
    "        center = left + int((right-left+1)/2)\r\n",
    "        if(target < nums[center]):\r\n",
    "            right = center-1\r\n",
    "        else:\r\n",
    "            left = center\r\n",
    "    if nums[left] == target:\r\n",
    "        return left\r\n",
    "    else:\r\n",
    "        return -1\r\n",
    "arr=[-1,0,5]\r\n",
    "search(arr, -1)"
   ],
   "outputs": [
    {
     "output_type": "execute_result",
     "data": {
      "text/plain": [
       "0"
      ]
     },
     "metadata": {},
     "execution_count": 70
    }
   ],
   "metadata": {}
  }
 ],
 "metadata": {
  "orig_nbformat": 4,
  "language_info": {
   "name": "python",
   "version": "3.9.4",
   "mimetype": "text/x-python",
   "codemirror_mode": {
    "name": "ipython",
    "version": 3
   },
   "pygments_lexer": "ipython3",
   "nbconvert_exporter": "python",
   "file_extension": ".py"
  },
  "kernelspec": {
   "name": "python3",
   "display_name": "Python 3.9.4 64-bit"
  },
  "interpreter": {
   "hash": "e37740a9da087ff2f3c097bdceb67e7743d71e72e85bd8c63f0787103a94112a"
  }
 },
 "nbformat": 4,
 "nbformat_minor": 2
}