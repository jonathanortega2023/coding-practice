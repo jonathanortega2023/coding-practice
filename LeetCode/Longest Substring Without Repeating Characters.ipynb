{
 "cells": [
  {
   "cell_type": "code",
   "execution_count": 44,
   "metadata": {},
   "outputs": [
    {
     "name": "stdout",
     "output_type": "stream",
     "text": [
      "3\n",
      "1\n",
      "3\n",
      "3\n"
     ]
    }
   ],
   "source": [
    "def lengthOfLongestSubstring(s: str) -> int:\n",
    "    if s == \"\":\n",
    "        return 0\n",
    "    i=0\n",
    "    j=1\n",
    "    ans=0\n",
    "    letters = {}\n",
    "    letters[s[0]]=1\n",
    "    while j<len(s):\n",
    "        if s[j] in letters:\n",
    "            ans=max(ans, j-i)\n",
    "            i+=1\n",
    "            j=i+1\n",
    "            letters={}\n",
    "            letters[s[i]]=1\n",
    "        else:\n",
    "            letters[s[j]]=1\n",
    "            j+=1\n",
    "    ans=max(ans, j-i)\n",
    "    return ans\n",
    "\n",
    "print(lengthOfLongestSubstring(\"abcabcbb\"))\n",
    "print(lengthOfLongestSubstring(\"bbbbb\"))\n",
    "print(lengthOfLongestSubstring(\"pwwkew\"))\n",
    "print(lengthOfLongestSubstring(\"dvdf\"))"
   ]
  }
 ],
 "metadata": {
  "interpreter": {
   "hash": "e37740a9da087ff2f3c097bdceb67e7743d71e72e85bd8c63f0787103a94112a"
  },
  "kernelspec": {
   "display_name": "Python 3.9.4 64-bit",
   "name": "python3"
  },
  "language_info": {
   "codemirror_mode": {
    "name": "ipython",
    "version": 3
   },
   "file_extension": ".py",
   "mimetype": "text/x-python",
   "name": "python",
   "nbconvert_exporter": "python",
   "pygments_lexer": "ipython3",
   "version": "3.9.4"
  },
  "orig_nbformat": 4
 },
 "nbformat": 4,
 "nbformat_minor": 2
}
