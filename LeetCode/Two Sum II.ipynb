{
 "cells": [
  {
   "cell_type": "code",
   "execution_count": 7,
   "metadata": {},
   "outputs": [
    {
     "name": "stdout",
     "output_type": "stream",
     "text": [
      "[2, 3]\n"
     ]
    }
   ],
   "source": [
    "def twoSum(numbers: [int], target: int) -> [int]:\n",
    "    i=0\n",
    "    j=len(numbers)-1\n",
    "    while i < j:\n",
    "        if numbers[i]+numbers[j] == target:\n",
    "            return [i+1, j+1]\n",
    "        elif numbers[i]+numbers[j] > target:\n",
    "            j-=1\n",
    "        else:\n",
    "            i+=1\n",
    "\n",
    "arr=[5,25,75]\n",
    "print(twoSum(arr, 100))"
   ]
  }
 ],
 "metadata": {
  "interpreter": {
   "hash": "e37740a9da087ff2f3c097bdceb67e7743d71e72e85bd8c63f0787103a94112a"
  },
  "kernelspec": {
   "display_name": "Python 3.9.4 64-bit",
   "name": "python3"
  },
  "language_info": {
   "codemirror_mode": {
    "name": "ipython",
    "version": 3
   },
   "file_extension": ".py",
   "mimetype": "text/x-python",
   "name": "python",
   "nbconvert_exporter": "python",
   "pygments_lexer": "ipython3",
   "version": "3.9.4"
  },
  "orig_nbformat": 4
 },
 "nbformat": 4,
 "nbformat_minor": 2
}
