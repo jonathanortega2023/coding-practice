{
 "cells": [
  {
   "cell_type": "code",
   "execution_count": 42,
   "metadata": {},
   "outputs": [
    {
     "name": "stdout",
     "output_type": "stream",
     "text": [
      "s'teL ekat edoCteeL tsetnoc\n"
     ]
    }
   ],
   "source": [
    "def reverseWords(s: str) -> str:\n",
    "    arr = reversed(s[::-1].split())\n",
    "    ans=\"\"\n",
    "    for word in arr:\n",
    "        ans+=word+\" \"\n",
    "    return ans[0:-1]\n",
    "\n",
    "\n",
    "s = \"Let's take LeetCode contest\"\n",
    "print(reverseWords(s))"
   ]
  },
  {
   "cell_type": "code",
   "execution_count": 30,
   "metadata": {},
   "outputs": [
    {
     "name": "stdout",
     "output_type": "stream",
     "text": [
      "['w', 'h']\n",
      "['w', 'h']\n"
     ]
    }
   ],
   "source": [
    "print(str([\"w\",\"h\"]))\n",
    "print(list(\"wh\"))"
   ]
  }
 ],
 "metadata": {
  "interpreter": {
   "hash": "e37740a9da087ff2f3c097bdceb67e7743d71e72e85bd8c63f0787103a94112a"
  },
  "kernelspec": {
   "display_name": "Python 3.9.4 64-bit",
   "name": "python3"
  },
  "language_info": {
   "codemirror_mode": {
    "name": "ipython",
    "version": 3
   },
   "file_extension": ".py",
   "mimetype": "text/x-python",
   "name": "python",
   "nbconvert_exporter": "python",
   "pygments_lexer": "ipython3",
   "version": "3.9.4"
  },
  "orig_nbformat": 4
 },
 "nbformat": 4,
 "nbformat_minor": 2
}
